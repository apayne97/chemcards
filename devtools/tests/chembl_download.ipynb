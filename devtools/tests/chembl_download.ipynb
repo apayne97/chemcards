{
 "cells": [
  {
   "cell_type": "code",
   "execution_count": 44,
   "id": "initial_id",
   "metadata": {
    "collapsed": true,
    "ExecuteTime": {
     "end_time": "2024-09-16T20:34:10.085183Z",
     "start_time": "2024-09-16T20:34:09.992165Z"
    }
   },
   "outputs": [],
   "source": [
    "from chembl_webresource_client.new_client import new_client\n",
    "from tqdm import tqdm\n",
    "\n",
    "approved_drugs = new_client.molecule.filter(max_phase=4, \n",
    "                                            molecule_type='Small molecule',\n",
    "                                            )"
   ]
  },
  {
   "cell_type": "code",
   "outputs": [
    {
     "data": {
      "text/plain": "3674"
     },
     "execution_count": 45,
     "metadata": {},
     "output_type": "execute_result"
    }
   ],
   "source": [
    "len(approved_drugs)"
   ],
   "metadata": {
    "collapsed": false,
    "ExecuteTime": {
     "end_time": "2024-09-16T20:34:11.220972Z",
     "start_time": "2024-09-16T20:34:11.214350Z"
    }
   },
   "id": "5d52b3b187dbee03",
   "execution_count": 45
  },
  {
   "cell_type": "code",
   "outputs": [
    {
     "name": "stderr",
     "output_type": "stream",
     "text": [
      "100%|██████████| 3674/3674 [08:18<00:00,  7.37it/s]\n"
     ]
    }
   ],
   "source": [
    "approved_drugs = [x for x in tqdm(approved_drugs)]"
   ],
   "metadata": {
    "collapsed": false,
    "ExecuteTime": {
     "end_time": "2024-09-16T20:42:52.281201Z",
     "start_time": "2024-09-16T20:34:33.776005Z"
    }
   },
   "id": "e9656f4aaa2d8954",
   "execution_count": 47
  },
  {
   "cell_type": "code",
   "outputs": [],
   "source": [
    "import json"
   ],
   "metadata": {
    "collapsed": false,
    "ExecuteTime": {
     "end_time": "2024-09-16T20:44:06.740580Z",
     "start_time": "2024-09-16T20:44:06.736926Z"
    }
   },
   "id": "2ec73895806b4ba5",
   "execution_count": 50
  },
  {
   "cell_type": "code",
   "outputs": [],
   "source": [
    "with open(\"/Users/alexpayne/Scientific_Projects/chemcards/chemcards/database/data/approved_drugs.json\", \"w\") as f:\n",
    "    json.dump(approved_drugs, f)"
   ],
   "metadata": {
    "collapsed": false,
    "ExecuteTime": {
     "end_time": "2024-09-16T20:45:17.737636Z",
     "start_time": "2024-09-16T20:45:16.871251Z"
    }
   },
   "id": "7d836b6a080353d4",
   "execution_count": 53
  },
  {
   "cell_type": "code",
   "outputs": [],
   "source": [],
   "metadata": {
    "collapsed": false
   },
   "id": "da815f94b2199bb2"
  }
 ],
 "metadata": {
  "kernelspec": {
   "display_name": "Python 3",
   "language": "python",
   "name": "python3"
  },
  "language_info": {
   "codemirror_mode": {
    "name": "ipython",
    "version": 2
   },
   "file_extension": ".py",
   "mimetype": "text/x-python",
   "name": "python",
   "nbconvert_exporter": "python",
   "pygments_lexer": "ipython2",
   "version": "2.7.6"
  }
 },
 "nbformat": 4,
 "nbformat_minor": 5
}
