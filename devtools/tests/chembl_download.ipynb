{
 "cells": [
  {
   "cell_type": "code",
   "execution_count": null,
   "id": "initial_id",
   "metadata": {
    "collapsed": true
   },
   "outputs": [],
   "source": [
    "from chembl_webresource_client.new_client import new_client\n",
    "from tqdm import tqdm\n",
    "\n",
    "approved_drugs = new_client.molecule.filter(max_phase=4, \n",
    "                                            molecule_type='Small molecule',\n",
    "                                            )"
   ]
  },
  {
   "cell_type": "code",
   "outputs": [],
   "source": [
    "len(approved_drugs)"
   ],
   "metadata": {
    "collapsed": false
   },
   "id": "5d52b3b187dbee03",
   "execution_count": null
  },
  {
   "cell_type": "code",
   "outputs": [],
   "source": [
    "approved_drugs = [x for x in tqdm(approved_drugs)]"
   ],
   "metadata": {
    "collapsed": false
   },
   "id": "e9656f4aaa2d8954",
   "execution_count": null
  },
  {
   "cell_type": "code",
   "outputs": [],
   "source": [
    "import json"
   ],
   "metadata": {
    "collapsed": false
   },
   "id": "2ec73895806b4ba5",
   "execution_count": null
  },
  {
   "cell_type": "code",
   "outputs": [],
   "source": [
    "with open(\"/Users/alexpayne/Scientific_Projects/chemcards/chemcards/database/data/approved_drugs.json\", \"w\") as f:\n",
    "    json.dump(approved_drugs, f)"
   ],
   "metadata": {
    "collapsed": false
   },
   "id": "7d836b6a080353d4",
   "execution_count": null
  },
  {
   "cell_type": "code",
   "outputs": [],
   "source": [
    "from chembl_webresource_client.new_client import new_client\n",
    "import json\n",
    "from tqdm import tqdm\n",
    "approved_drugs_w_mechanism = new_client.mechanism.filter(molecule_type='Small molecule', max_phase=4)"
   ],
   "metadata": {
    "collapsed": false
   },
   "id": "da815f94b2199bb2",
   "execution_count": null
  },
  {
   "cell_type": "code",
   "outputs": [],
   "source": [
    "adm = [x for x in tqdm(approved_drugs_w_mechanism)]"
   ],
   "metadata": {
    "collapsed": false
   },
   "id": "385c0f956297516f",
   "execution_count": null
  },
  {
   "cell_type": "code",
   "outputs": [],
   "source": [
    "with open(\"/Users/alexpayne/Scientific_Projects/chemcards/chemcards/database/data/approved_drugs_w_mechanism.json\", \"w\") as f:\n",
    "    json.dump(approved_drugs_w_mechanism, f)"
   ],
   "metadata": {
    "collapsed": false
   },
   "id": "12d74ea287388c4a",
   "execution_count": null
  },
  {
   "cell_type": "code",
   "outputs": [],
   "source": [
    "from chembl_webresource_client.new_client import new_client\n",
    "import json\n",
    "from tqdm import tqdm"
   ],
   "metadata": {
    "collapsed": false
   },
   "id": "11d57795b3a60dde",
   "execution_count": null
  },
  {
   "cell_type": "code",
   "outputs": [],
   "source": [
    "target = new_client.target.filter(target_chembl_id=approved_drugs_w_mechanism[0]['target_chembl_id']).only('pref_name')"
   ],
   "metadata": {
    "collapsed": false
   },
   "id": "f5c76f2af074d036",
   "execution_count": null
  },
  {
   "cell_type": "code",
   "outputs": [],
   "source": [
    "target[0]"
   ],
   "metadata": {
    "collapsed": false
   },
   "id": "9ada9989bf3d84ed",
   "execution_count": null
  },
  {
   "cell_type": "code",
   "outputs": [],
   "source": [
    "new_client.molecule.filter(molecule_chembl_id='CHEMBL19')[0]"
   ],
   "metadata": {
    "collapsed": false
   },
   "id": "9d290a9f4f1b8518",
   "execution_count": null
  },
  {
   "cell_type": "code",
   "outputs": [],
   "source": [],
   "metadata": {
    "collapsed": false
   },
   "id": "1d1c379390a18569"
  }
 ],
 "metadata": {
  "kernelspec": {
   "display_name": "Python 3",
   "language": "python",
   "name": "python3"
  },
  "language_info": {
   "codemirror_mode": {
    "name": "ipython",
    "version": 2
   },
   "file_extension": ".py",
   "mimetype": "text/x-python",
   "name": "python",
   "nbconvert_exporter": "python",
   "pygments_lexer": "ipython2",
   "version": "2.7.6"
  }
 },
 "nbformat": 4,
 "nbformat_minor": 5
}
