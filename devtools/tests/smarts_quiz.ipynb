{
 "cells": [
  {
   "cell_type": "code",
   "execution_count": null,
   "id": "initial_id",
   "metadata": {
    "collapsed": true
   },
   "outputs": [],
   "source": [
    "from chemcards.database.resources import FUNCTIONAL_GROUPS, MOLECULE_DATABASE\n",
    "from chemcards.database.core import MoleculeDB"
   ]
  },
  {
   "cell_type": "code",
   "outputs": [],
   "source": [
    "import yaml"
   ],
   "metadata": {
    "collapsed": false
   },
   "id": "8ab12eff3bde4838",
   "execution_count": null
  },
  {
   "cell_type": "code",
   "outputs": [],
   "source": [
    "with open(FUNCTIONAL_GROUPS, 'r') as f:\n",
    "    functional_groups = yaml.load(f, Loader=yaml.FullLoader)"
   ],
   "metadata": {
    "collapsed": false
   },
   "id": "2ad1f20a2d8ffe92",
   "execution_count": null
  },
  {
   "cell_type": "code",
   "outputs": [],
   "source": [
    "functional_groups"
   ],
   "metadata": {
    "collapsed": false
   },
   "id": "89f1b40d3ea21e01",
   "execution_count": null
  },
  {
   "cell_type": "code",
   "outputs": [],
   "source": [
    "mdb = MoleculeDB.load()"
   ],
   "metadata": {
    "collapsed": false
   },
   "id": "973248ed9c9128b2",
   "execution_count": null
  },
  {
   "cell_type": "code",
   "outputs": [],
   "source": [
    "from rdkit import Chem\n",
    "query = mdb.molecules[0].to_rdkit()\n",
    "patt = Chem.MolFromSmarts(functional_groups[0]['smarts'])"
   ],
   "metadata": {
    "collapsed": false
   },
   "id": "64023e43b347f779",
   "execution_count": null
  },
  {
   "cell_type": "code",
   "outputs": [],
   "source": [
    "import tqdm\n",
    "examples = {}\n",
    "for fg in tqdm.tqdm(functional_groups):\n",
    "    patt = Chem.MolFromSmarts(fg['smarts'])\n",
    "    mols = []\n",
    "    for mol in mdb.molecules:\n",
    "        rmol = mol.to_rdkit()\n",
    "        if rmol.HasSubstructMatch(patt):\n",
    "            mols.append(mol)\n",
    "    examples[fg['name']] = mols\n",
    "            "
   ],
   "metadata": {
    "collapsed": false
   },
   "id": "3c9c60dec4ad0fb6",
   "execution_count": null
  },
  {
   "cell_type": "code",
   "outputs": [],
   "source": [
    "examples['thiophene']"
   ],
   "metadata": {
    "collapsed": false
   },
   "id": "4139f5fa9dee8b5b",
   "execution_count": null
  },
  {
   "cell_type": "code",
   "outputs": [],
   "source": [
    "examples['1,2-oxazole']"
   ],
   "metadata": {
    "collapsed": false
   },
   "id": "92507a88a41adf28",
   "execution_count": null
  },
  {
   "cell_type": "code",
   "outputs": [],
   "source": [
    "examples['1,3-oxazole']"
   ],
   "metadata": {
    "collapsed": false
   },
   "id": "1fbf16638b127cad",
   "execution_count": null
  },
  {
   "cell_type": "code",
   "outputs": [],
   "source": [
    "examples['pyridine']"
   ],
   "metadata": {
    "collapsed": false
   },
   "id": "87a4e199dbe63db7",
   "execution_count": null
  },
  {
   "cell_type": "code",
   "outputs": [],
   "source": [
    "examples['indole']"
   ],
   "metadata": {
    "collapsed": false
   },
   "id": "fd4bc31664de1cd1",
   "execution_count": null
  },
  {
   "cell_type": "code",
   "outputs": [],
   "source": [
    "examples['1,2-thiazole']"
   ],
   "metadata": {
    "collapsed": false
   },
   "id": "15404dd3474f5dc3",
   "execution_count": null
  },
  {
   "cell_type": "code",
   "outputs": [],
   "source": [
    "examples['phenothiazine']"
   ],
   "metadata": {
    "collapsed": false
   },
   "id": "e081cfc31f5ca559",
   "execution_count": null
  },
  {
   "cell_type": "code",
   "outputs": [],
   "source": [
    "examples['acyl hydrazine'][7]"
   ],
   "metadata": {
    "collapsed": false
   },
   "id": "d1b592f27b18f52e",
   "execution_count": null
  },
  {
   "cell_type": "code",
   "outputs": [],
   "source": [
    "examples['imine'][1]"
   ],
   "metadata": {
    "collapsed": false
   },
   "id": "a22fcc1805bfeb6",
   "execution_count": null
  },
  {
   "cell_type": "markdown",
   "source": [],
   "metadata": {
    "collapsed": false
   },
   "id": "1d05dc761684b5df"
  },
  {
   "cell_type": "code",
   "outputs": [],
   "source": [
    "examples[('beta-keto/anhydride')][0]"
   ],
   "metadata": {
    "collapsed": false
   },
   "id": "6949fafbcc9e80f",
   "execution_count": null
  },
  {
   "cell_type": "code",
   "outputs": [],
   "source": [],
   "metadata": {
    "collapsed": false
   },
   "id": "a39d09b368135a33",
   "execution_count": null
  }
 ],
 "metadata": {
  "kernelspec": {
   "display_name": "Python 3",
   "language": "python",
   "name": "python3"
  },
  "language_info": {
   "codemirror_mode": {
    "name": "ipython",
    "version": 2
   },
   "file_extension": ".py",
   "mimetype": "text/x-python",
   "name": "python",
   "nbconvert_exporter": "python",
   "pygments_lexer": "ipython2",
   "version": "2.7.6"
  }
 },
 "nbformat": 4,
 "nbformat_minor": 5
}
