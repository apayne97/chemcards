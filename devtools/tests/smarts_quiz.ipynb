{
 "cells": [
  {
   "cell_type": "code",
   "execution_count": null,
   "id": "initial_id",
   "metadata": {
    "collapsed": true
   },
   "outputs": [],
   "source": [
    "from chemcards.database.resources import FUNCTIONAL_GROUPS_DATABASE, MOLECULE_DATABASE\n",
    "from chemcards.database.core import MoleculeDB\n",
    "from chemcards.database.cheminformatics import FunctionalGroupDatabase, FUNCTIONAL_GROUPS"
   ]
  },
  {
   "cell_type": "code",
   "outputs": [],
   "source": [
    "import yaml"
   ],
   "metadata": {
    "collapsed": false
   },
   "id": "8ab12eff3bde4838",
   "execution_count": null
  },
  {
   "cell_type": "code",
   "outputs": [],
   "source": [
    "with open(FUNCTIONAL_GROUPS_DATABASE, 'r') as f:\n",
    "    functional_groups = yaml.load(f, Loader=yaml.FullLoader)"
   ],
   "metadata": {
    "collapsed": false
   },
   "id": "2ad1f20a2d8ffe92",
   "execution_count": null
  },
  {
   "cell_type": "code",
   "outputs": [],
   "source": [
    "functional_groups"
   ],
   "metadata": {
    "collapsed": false
   },
   "id": "89f1b40d3ea21e01",
   "execution_count": null
  },
  {
   "cell_type": "code",
   "outputs": [],
   "source": [
    "mdb = MoleculeDB.load()"
   ],
   "metadata": {
    "collapsed": false
   },
   "id": "973248ed9c9128b2",
   "execution_count": null
  },
  {
   "cell_type": "code",
   "outputs": [],
   "source": [
    "from rdkit import Chem\n",
    "query = mdb.molecules[0].to_rdkit()\n",
    "patt = Chem.MolFromSmarts(functional_groups[0]['smarts'])"
   ],
   "metadata": {
    "collapsed": false
   },
   "id": "64023e43b347f779",
   "execution_count": null
  },
  {
   "cell_type": "code",
   "outputs": [],
   "source": [
    "import tqdm\n",
    "examples = {}\n",
    "for fg in tqdm.tqdm(functional_groups):\n",
    "    patt = Chem.MolFromSmarts(fg['smarts'])\n",
    "    mols = []\n",
    "    for mol in mdb.molecules:\n",
    "        rmol = mol.to_rdkit()\n",
    "        if rmol.HasSubstructMatch(patt):\n",
    "            mols.append(mol)\n",
    "    examples[fg['name']] = mols\n",
    "            "
   ],
   "metadata": {
    "collapsed": false
   },
   "id": "3c9c60dec4ad0fb6",
   "execution_count": null
  },
  {
   "cell_type": "code",
   "outputs": [],
   "source": [
    "examples['thiophene']"
   ],
   "metadata": {
    "collapsed": false
   },
   "id": "4139f5fa9dee8b5b",
   "execution_count": null
  },
  {
   "cell_type": "code",
   "outputs": [],
   "source": [
    "examples['1,2-oxazole']"
   ],
   "metadata": {
    "collapsed": false
   },
   "id": "92507a88a41adf28",
   "execution_count": null
  },
  {
   "cell_type": "code",
   "outputs": [],
   "source": [
    "examples['1,3-oxazole']"
   ],
   "metadata": {
    "collapsed": false
   },
   "id": "1fbf16638b127cad",
   "execution_count": null
  },
  {
   "cell_type": "code",
   "outputs": [],
   "source": [
    "examples['pyridine']"
   ],
   "metadata": {
    "collapsed": false
   },
   "id": "87a4e199dbe63db7",
   "execution_count": null
  },
  {
   "cell_type": "code",
   "outputs": [],
   "source": [
    "examples['indole']"
   ],
   "metadata": {
    "collapsed": false
   },
   "id": "fd4bc31664de1cd1",
   "execution_count": null
  },
  {
   "cell_type": "code",
   "outputs": [],
   "source": [
    "examples['1,2-thiazole']"
   ],
   "metadata": {
    "collapsed": false
   },
   "id": "15404dd3474f5dc3",
   "execution_count": null
  },
  {
   "cell_type": "code",
   "outputs": [],
   "source": [
    "examples['phenothiazine']"
   ],
   "metadata": {
    "collapsed": false
   },
   "id": "e081cfc31f5ca559",
   "execution_count": null
  },
  {
   "cell_type": "code",
   "outputs": [],
   "source": [
    "examples['acyl hydrazine'][7]"
   ],
   "metadata": {
    "collapsed": false
   },
   "id": "d1b592f27b18f52e",
   "execution_count": null
  },
  {
   "cell_type": "code",
   "outputs": [],
   "source": [
    "examples['imine'][1]"
   ],
   "metadata": {
    "collapsed": false
   },
   "id": "a22fcc1805bfeb6",
   "execution_count": null
  },
  {
   "cell_type": "markdown",
   "source": [],
   "metadata": {
    "collapsed": false
   },
   "id": "1d05dc761684b5df"
  },
  {
   "cell_type": "code",
   "outputs": [],
   "source": [
    "examples[('beta-keto anhydride')][0]"
   ],
   "metadata": {
    "collapsed": false
   },
   "id": "6949fafbcc9e80f",
   "execution_count": null
  },
  {
   "cell_type": "code",
   "outputs": [],
   "source": [
    "examples[('morpholine')][0]"
   ],
   "metadata": {
    "collapsed": false
   },
   "id": "a39d09b368135a33",
   "execution_count": null
  },
  {
   "cell_type": "code",
   "outputs": [],
   "source": [
    "fgd = FunctionalGroupDatabase.from_moleculedb(mdb)"
   ],
   "metadata": {
    "collapsed": false
   },
   "id": "dce33cc76546402a",
   "execution_count": null
  },
  {
   "cell_type": "code",
   "outputs": [],
   "source": [
    "len(fgd.functional_groups.keys())"
   ],
   "metadata": {
    "collapsed": false
   },
   "id": "2e4cd92606046080",
   "execution_count": null
  },
  {
   "cell_type": "code",
   "outputs": [],
   "source": [
    "len(fgd.anti_functional_groups.keys())"
   ],
   "metadata": {
    "collapsed": false
   },
   "id": "1ffde28ed35555e3",
   "execution_count": null
  },
  {
   "cell_type": "code",
   "outputs": [],
   "source": [
    "len(functional_groups)"
   ],
   "metadata": {
    "collapsed": false
   },
   "id": "b551227355130808",
   "execution_count": null
  },
  {
   "cell_type": "code",
   "outputs": [],
   "source": [
    "len(mdb.molecules)"
   ],
   "metadata": {
    "collapsed": false
   },
   "id": "3f4ddc80861a253d",
   "execution_count": null
  },
  {
   "cell_type": "code",
   "outputs": [],
   "source": [
    "FUNCTIONAL_GROUPS"
   ],
   "metadata": {
    "collapsed": false
   },
   "id": "5155424a950a8da",
   "execution_count": null
  },
  {
   "cell_type": "code",
   "outputs": [],
   "source": [
    "from chemcards.gui.molecules import MoleculeViz"
   ],
   "metadata": {
    "collapsed": false
   },
   "id": "88a42a3e29fd391d",
   "execution_count": null
  },
  {
   "cell_type": "code",
   "outputs": [],
   "source": [
    "from rdkit.Chem import Draw\n",
    "for fg in fgd.functional_groups:\n",
    "    molecule = fgd.functional_groups[fg][0]\n",
    "    mol = molecule.to_rdkit()\n",
    "    # Set Draw Options\n",
    "    dopts = Draw.rdMolDraw2D.MolDrawOptions()\n",
    "    dopts.setHighlightColour((68/256, 178/256, 212/256))\n",
    "    dopts.highlightBondWidthMultiplier = 16\n",
    "    \n",
    "    # Find the atoms to highlight\n",
    "    highlight = [mol.GetSubstructMatch(fg.to_rdkit())]\n",
    "    \n",
    "    # Draw the molecules\n",
    "    img = Draw.MolsToGridImage([mol], subImgSize=(800,800), molsPerRow=1, highlightAtomLists=highlight, drawOptions=dopts, )\n",
    "    # save to png file\n",
    "    with open(f\"{fg.name}_example.png\", 'wb') as f:\n",
    "        f.write(img.data)    "
   ],
   "metadata": {
    "collapsed": false
   },
   "id": "ab7f94b726a0efe5",
   "execution_count": null
  },
  {
   "cell_type": "code",
   "outputs": [],
   "source": [
    "from rdkit.Chem import Draw\n",
    "from chemcards.gui.molecules import MoleculeViz\n",
    "for fg in fgd.functional_groups:\n",
    "    molecule = fgd.functional_groups[fg][0]\n",
    "    mol = molecule.to_rdkit()\n",
    "    mviz = MoleculeViz(molecule)\n",
    "    img = mviz.get_image(highlight_functional_group=fg, use_tkinter=False, height=800, width=800)\n",
    "    img.show()"
   ],
   "metadata": {
    "collapsed": false
   },
   "id": "af01a5788343f247",
   "execution_count": null
  },
  {
   "cell_type": "code",
   "outputs": [],
   "source": [],
   "metadata": {
    "collapsed": false
   },
   "id": "2092e262ad210097"
  }
 ],
 "metadata": {
  "kernelspec": {
   "display_name": "Python 3",
   "language": "python",
   "name": "python3"
  },
  "language_info": {
   "codemirror_mode": {
    "name": "ipython",
    "version": 2
   },
   "file_extension": ".py",
   "mimetype": "text/x-python",
   "name": "python",
   "nbconvert_exporter": "python",
   "pygments_lexer": "ipython2",
   "version": "2.7.6"
  }
 },
 "nbformat": 4,
 "nbformat_minor": 5
}
